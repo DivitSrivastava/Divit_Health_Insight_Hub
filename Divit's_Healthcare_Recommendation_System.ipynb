{
  "nbformat": 4,
  "nbformat_minor": 0,
  "metadata": {
    "colab": {
      "provenance": []
    },
    "kernelspec": {
      "name": "python3",
      "display_name": "Python 3"
    },
    "language_info": {
      "name": "python"
    }
  },
  "cells": [
    {
      "cell_type": "code",
      "execution_count": 44,
      "metadata": {
        "colab": {
          "base_uri": "https://localhost:8080/"
        },
        "id": "S1XIjNIf7UZe",
        "outputId": "00b17c37-045d-4895-b971-ca618264d4ed"
      },
      "outputs": [
        {
          "output_type": "stream",
          "name": "stdout",
          "text": [
            "Drive already mounted at /content/drive; to attempt to forcibly remount, call drive.mount(\"/content/drive\", force_remount=True).\n"
          ]
        }
      ],
      "source": [
        "from google.colab import drive\n",
        "drive.mount('/content/drive')"
      ]
    },
    {
      "cell_type": "markdown",
      "source": [
        "# **Disease Predictor**"
      ],
      "metadata": {
        "id": "W2KuTqWuCSwv"
      }
    },
    {
      "cell_type": "code",
      "source": [
        "import pandas as pd\n",
        "from sklearn.model_selection import train_test_split\n",
        "import xgboost as xgb\n",
        "from sklearn.metrics import accuracy_score, classification_report\n",
        "from sklearn.preprocessing import LabelEncoder # Import label encoder\n",
        "\n",
        "# Load the testing dataset\n",
        "df = pd.read_csv('/content/drive/MyDrive/MRC/Training.csv')\n",
        "\n",
        "# Separate features (symptoms) and target (disease)\n",
        "X = df.drop('prognosis', axis=1)\n",
        "y = df['prognosis']\n",
        "\n",
        "# Encode the target labels\n",
        "label_encoder = LabelEncoder()\n",
        "y_encoded = label_encoder.fit_transform(y) # creates numerical labels.\n",
        "\n",
        "# Split data into training and testing sets\n",
        "X_train, X_test, y_train, y_test = train_test_split(X, y_encoded, test_size=0.2, random_state=42) # use encoded labels\n",
        "\n",
        "# Create and train an XGBoost classifier\n",
        "model = xgb.XGBClassifier(use_label_encoder=False, eval_metric='mlogloss', random_state=42)\n",
        "model.fit(X_train, y_train)\n",
        "\n",
        "# Make predictions on the test set\n",
        "y_pred = model.predict(X_test)\n",
        "\n",
        "# Evaluate the model\n",
        "accuracy = accuracy_score(y_test, y_pred)\n",
        "print(f'Accuracy: {accuracy}')\n",
        "\n",
        "# Print classification report for more detailed evaluation\n",
        "print(classification_report(y_test, y_pred))\n",
        "\n",
        "# Print the encoded labels\n",
        "print(label_encoder.classes_) # Shows the mapping of encoded labels to disease names."
      ],
      "metadata": {
        "colab": {
          "base_uri": "https://localhost:8080/"
        },
        "id": "nePkTxJ_7po1",
        "outputId": "a0ca4775-e9b4-44be-90e9-d317142b9c04"
      },
      "execution_count": 45,
      "outputs": [
        {
          "output_type": "stream",
          "name": "stderr",
          "text": [
            "/usr/local/lib/python3.11/dist-packages/xgboost/core.py:158: UserWarning: [17:45:09] WARNING: /workspace/src/learner.cc:740: \n",
            "Parameters: { \"use_label_encoder\" } are not used.\n",
            "\n",
            "  warnings.warn(smsg, UserWarning)\n"
          ]
        },
        {
          "output_type": "stream",
          "name": "stdout",
          "text": [
            "Accuracy: 1.0\n",
            "              precision    recall  f1-score   support\n",
            "\n",
            "           0       1.00      1.00      1.00        18\n",
            "           1       1.00      1.00      1.00        30\n",
            "           2       1.00      1.00      1.00        24\n",
            "           3       1.00      1.00      1.00        25\n",
            "           4       1.00      1.00      1.00        24\n",
            "           5       1.00      1.00      1.00        23\n",
            "           6       1.00      1.00      1.00        33\n",
            "           7       1.00      1.00      1.00        23\n",
            "           8       1.00      1.00      1.00        21\n",
            "           9       1.00      1.00      1.00        15\n",
            "          10       1.00      1.00      1.00        23\n",
            "          11       1.00      1.00      1.00        26\n",
            "          12       1.00      1.00      1.00        21\n",
            "          13       1.00      1.00      1.00        29\n",
            "          14       1.00      1.00      1.00        24\n",
            "          15       1.00      1.00      1.00        19\n",
            "          16       1.00      1.00      1.00        28\n",
            "          17       1.00      1.00      1.00        25\n",
            "          18       1.00      1.00      1.00        23\n",
            "          19       1.00      1.00      1.00        27\n",
            "          20       1.00      1.00      1.00        26\n",
            "          21       1.00      1.00      1.00        23\n",
            "          22       1.00      1.00      1.00        29\n",
            "          23       1.00      1.00      1.00        25\n",
            "          24       1.00      1.00      1.00        24\n",
            "          25       1.00      1.00      1.00        26\n",
            "          26       1.00      1.00      1.00        21\n",
            "          27       1.00      1.00      1.00        24\n",
            "          28       1.00      1.00      1.00        19\n",
            "          29       1.00      1.00      1.00        22\n",
            "          30       1.00      1.00      1.00        25\n",
            "          31       1.00      1.00      1.00        22\n",
            "          32       1.00      1.00      1.00        24\n",
            "          33       1.00      1.00      1.00        17\n",
            "          34       1.00      1.00      1.00        28\n",
            "          35       1.00      1.00      1.00        22\n",
            "          36       1.00      1.00      1.00        25\n",
            "          37       1.00      1.00      1.00        19\n",
            "          38       1.00      1.00      1.00        26\n",
            "          39       1.00      1.00      1.00        22\n",
            "          40       1.00      1.00      1.00        34\n",
            "\n",
            "    accuracy                           1.00       984\n",
            "   macro avg       1.00      1.00      1.00       984\n",
            "weighted avg       1.00      1.00      1.00       984\n",
            "\n",
            "['(vertigo) Paroymsal  Positional Vertigo' 'AIDS' 'Acne'\n",
            " 'Alcoholic hepatitis' 'Allergy' 'Arthritis' 'Bronchial Asthma'\n",
            " 'Cervical spondylosis' 'Chicken pox' 'Chronic cholestasis' 'Common Cold'\n",
            " 'Dengue' 'Diabetes ' 'Dimorphic hemmorhoids(piles)' 'Drug Reaction'\n",
            " 'Fungal infection' 'GERD' 'Gastroenteritis' 'Heart attack' 'Hepatitis B'\n",
            " 'Hepatitis C' 'Hepatitis D' 'Hepatitis E' 'Hypertension '\n",
            " 'Hyperthyroidism' 'Hypoglycemia' 'Hypothyroidism' 'Impetigo' 'Jaundice'\n",
            " 'Malaria' 'Migraine' 'Osteoarthristis' 'Paralysis (brain hemorrhage)'\n",
            " 'Peptic ulcer diseae' 'Pneumonia' 'Psoriasis' 'Tuberculosis' 'Typhoid'\n",
            " 'Urinary tract infection' 'Varicose veins' 'hepatitis A']\n"
          ]
        }
      ]
    },
    {
      "cell_type": "markdown",
      "source": [
        "# **Saving Disease Predictor**"
      ],
      "metadata": {
        "id": "o6gFZzQvCW0X"
      }
    },
    {
      "cell_type": "code",
      "source": [
        "import pickle\n",
        "\n",
        "# Save the model\n",
        "with open('/content/drive/MyDrive/MRC/Divit HRC Disease Prediction.pkl', 'wb') as f:\n",
        "    pickle.dump(model, f)\n",
        "\n",
        "# Save the label encoder\n",
        "with open('/content/drive/MyDrive/MRC/label_encoder.pkl', 'wb') as f:\n",
        "    pickle.dump(label_encoder, f)"
      ],
      "metadata": {
        "id": "TDRIxN-I8ny8"
      },
      "execution_count": 46,
      "outputs": []
    },
    {
      "cell_type": "markdown",
      "source": [
        "# **Recommendation System**"
      ],
      "metadata": {
        "id": "V-xorm_kCcxL"
      }
    },
    {
      "cell_type": "markdown",
      "source": [
        "**Loading Libraries and Creating Dataset**"
      ],
      "metadata": {
        "id": "dt1KwXXICibm"
      }
    },
    {
      "cell_type": "code",
      "source": [
        "import pandas as pd\n",
        "import ast\n",
        "import warnings\n",
        "warnings.filterwarnings(\"ignore\", category=FutureWarning)\n",
        "\n",
        "# Load the datasets\n",
        "description_df = pd.read_csv('/content/drive/MyDrive/MRC/description.csv')\n",
        "diets_df = pd.read_csv('/content/drive/MyDrive/MRC/diets.csv')\n",
        "precautions_df = pd.read_csv('/content/drive/MyDrive/MRC/precautions_df.csv')\n",
        "medications_df = pd.read_csv('/content/drive/MyDrive/MRC/medications.csv')\n",
        "symptoms_df = pd.read_csv('/content/drive/MyDrive/MRC/symtoms_df.csv')\n",
        "severity_df = pd.read_csv('/content/drive/MyDrive/MRC/Symptom-severity.csv')\n",
        "workout_df = pd.read_csv('/content/drive/MyDrive/MRC/workout_df.csv')\n",
        "\n",
        "# Group by disease and aggregate symptoms (before merging)\n",
        "symptoms_columns = ['Symptom_1', 'Symptom_2', 'Symptom_3', 'Symptom_4']\n",
        "symptoms_df['Symptoms'] = symptoms_df[symptoms_columns].apply(lambda row: [item for item in row if isinstance(item, str) and item != 'nan'], axis=1) #create list of symptoms per row.\n",
        "symptoms_grouped = symptoms_df.groupby('Disease')['Symptoms'].apply(sum).reset_index() #sum the lists of symptoms per disease.\n",
        "\n",
        "# Merge the datasets\n",
        "merged_df = pd.merge(description_df, symptoms_grouped, on='Disease', how='left') # Merge symptoms first\n",
        "merged_df = pd.merge(merged_df, diets_df, on='Disease', how='left')\n",
        "merged_df = pd.merge(merged_df, precautions_df, on='Disease', how='left')\n",
        "merged_df = pd.merge(merged_df, medications_df, on='Disease', how='left')\n",
        "merged_df = pd.merge(merged_df, workout_df, left_on='Disease', right_on='disease', how='left')\n",
        "merged_df.drop('disease', axis=1, inplace=True)\n",
        "merged_df.fillna('Not Available', inplace=True)\n",
        "\n",
        "# Convert list-like strings to lists\n",
        "merged_df['Diet'] = merged_df['Diet'].apply(lambda x: ast.literal_eval(x) if isinstance(x, str) else x)\n",
        "merged_df['Medication'] = merged_df['Medication'].apply(lambda x: ast.literal_eval(x) if isinstance(x, str) else x)\n",
        "\n",
        "# Clean symptom list formatting and handle NaN values\n",
        "merged_df['Symptoms'] = merged_df['Symptoms'].apply(lambda x: [s.strip() if isinstance(s, str) else s for s in x] if isinstance(x, list) else x)\n",
        "\n",
        "# Integrate severity\n",
        "def add_severity(symptom_list):\n",
        "    if isinstance(symptom_list, list):\n",
        "        # Remove duplicates and NaN values\n",
        "        symptom_list = [symptom for symptom in symptom_list if isinstance(symptom, str) and symptom != 'nan']\n",
        "        symptom_list = list(set(symptom_list))\n",
        "        return [(symptom, severity_df[severity_df['Symptom'] == symptom]['weight'].values[0] if symptom in severity_df['Symptom'].values else 'Not Available') for symptom in symptom_list]\n",
        "    else:\n",
        "        return symptom_list\n",
        "\n",
        "merged_df['Symptoms'] = merged_df['Symptoms'].apply(add_severity)\n",
        "\n",
        "# Consolidate precautions into a list\n",
        "precaution_columns = ['Precaution_1', 'Precaution_2', 'Precaution_3', 'Precaution_4']\n",
        "merged_df['Precautions'] = merged_df[precaution_columns].apply(lambda row: [x for x in row if x != 'Not Available'], axis=1)\n",
        "\n",
        "# Remove duplicate precautions\n",
        "merged_df['Precautions'] = merged_df['Precautions'].apply(lambda x: list(set(x)))\n",
        "\n",
        "# Drop the original precaution columns\n",
        "merged_df.drop(precaution_columns, axis=1, inplace=True)\n",
        "\n",
        "# Save merged_df to disease_model.csv\n",
        "merged_df.to_csv('/content/drive/MyDrive/MRC/disease_model.csv', index=False)"
      ],
      "metadata": {
        "id": "blYusgweBA12"
      },
      "execution_count": 47,
      "outputs": []
    },
    {
      "cell_type": "markdown",
      "source": [
        "**Building the Recommendation Engine**"
      ],
      "metadata": {
        "id": "ZsxPCMGvCz7N"
      }
    },
    {
      "cell_type": "code",
      "source": [
        "def get_recommendations(disease_name):\n",
        "    disease_data = merged_df[merged_df['Disease'] == disease_name].iloc[0]\n",
        "\n",
        "    print(f\"Disease: {disease_data['Disease']}\")\n",
        "    print(f\"Description: {disease_data['Description']}\")\n",
        "\n",
        "    # Sort symptoms by severity\n",
        "    symptoms = disease_data['Symptoms']\n",
        "    if isinstance(symptoms, str) and symptoms != \"Not Available\": #Added check here.\n",
        "        try:\n",
        "            symptom_list = eval(symptoms)\n",
        "            symptoms = sorted(symptom_list, key=lambda x: x[1] if isinstance(x, tuple) and len(x) > 1 and isinstance(x[1], (int, float)) else 0, reverse=True)\n",
        "            print(\"Symptoms:\")\n",
        "            for item in symptoms:\n",
        "                if isinstance(item, tuple) and len(item) == 2:\n",
        "                    symptom, severity = item\n",
        "                    print(f\"- {symptom} (Severity: {severity})\")\n",
        "                else:\n",
        "                    print(f\"- Invalid symptom entry: {item}\")\n",
        "        except (SyntaxError, NameError):\n",
        "            print(f\"Error evaluating symptoms for {disease_name}: {symptoms}\")\n",
        "    else:\n",
        "        print(\"Symptoms: Not Available\")\n",
        "\n",
        "    print(f\"Diet: {disease_data['Diet']}\")\n",
        "    print(f\"Medications: {disease_data['Medication']}\")\n",
        "    print(f\"Precautions: {disease_data['Precautions']}\")\n",
        "    print(f\"Workout: {disease_data['workout']}\")"
      ],
      "metadata": {
        "id": "bkWM7OSPCgvp"
      },
      "execution_count": 48,
      "outputs": []
    },
    {
      "cell_type": "markdown",
      "source": [
        "# **Example Usage**"
      ],
      "metadata": {
        "id": "sO-EAltjC7aS"
      }
    },
    {
      "cell_type": "code",
      "source": [
        "# Example usage\n",
        "get_recommendations('Fungal infection')"
      ],
      "metadata": {
        "colab": {
          "base_uri": "https://localhost:8080/"
        },
        "id": "2wIJwMLpC_3X",
        "outputId": "b559cd44-9150-4270-ef59-5a208cbbd8d0"
      },
      "execution_count": 49,
      "outputs": [
        {
          "output_type": "stream",
          "name": "stdout",
          "text": [
            "Disease: Fungal infection\n",
            "Description: Fungal infection is a common skin condition caused by fungi.\n",
            "Symptoms: Not Available\n",
            "Diet: ['Antifungal Diet', 'Probiotics', 'Garlic', 'Coconut oil', 'Turmeric']\n",
            "Medications: ['Antifungal Cream', 'Fluconazole', 'Terbinafine', 'Clotrimazole', 'Ketoconazole']\n",
            "Precautions: ['use clean cloths', 'use detol or neem in bathing water', 'keep infected area dry', 'bath twice']\n",
            "Workout: Avoid sugary foods\n"
          ]
        }
      ]
    },
    {
      "cell_type": "code",
      "source": [
        "import pandas as pd\n",
        "import pickle\n",
        "\n",
        "# Load the saved XGBoost model and label encoder\n",
        "with open('/content/drive/MyDrive/MRC/Divit HRC Disease Prediction.pkl', 'rb') as f:\n",
        "    xgb_model = pickle.load(f)\n",
        "\n",
        "with open('/content/drive/MyDrive/MRC/label_encoder.pkl', 'rb') as f:\n",
        "    label_encoder = pickle.load(f)\n",
        "\n",
        "# Create a list of all symptoms from the training data\n",
        "symptoms = X_train.columns.tolist()\n",
        "\n",
        "# Load the merged_df and severity_df\n",
        "severity_df = pd.read_csv('/content/drive/MyDrive/MRC/Symptom-severity.csv')\n",
        "merged_df = pd.read_csv('/content/drive/MyDrive/MRC/disease_model.csv')\n",
        "\n",
        "def find_disease_by_symptoms(user_symptoms, merged_df, severity_df):\n",
        "    disease_scores = {}\n",
        "\n",
        "    for index, row in merged_df.iterrows():\n",
        "        disease = row['Disease']\n",
        "        symptoms = row['Symptoms']\n",
        "        score = 0\n",
        "\n",
        "        if isinstance(symptoms, str) and symptoms != \"Not Available\": #Added check here.\n",
        "            try:\n",
        "                symptom_list = eval(symptoms)\n",
        "                for user_symptom in user_symptoms:\n",
        "                    for s, severity in symptom_list:\n",
        "                        if s == user_symptom:\n",
        "                            if isinstance(severity, (int, float)):\n",
        "                                score += severity\n",
        "                            else:\n",
        "                                score += 1 #if severity is not available, add 1.\n",
        "            except (SyntaxError, NameError):\n",
        "                print(f\"Error evaluating symptoms for {disease}: {symptoms}\")\n",
        "        elif isinstance(symptoms, str) and symptoms == \"Not Available\":\n",
        "            continue #skip if symptoms are not available.\n",
        "        else:\n",
        "            print(f\"Unexpected symptom data type for {disease}: {type(symptoms)}\")\n",
        "\n",
        "        if score > 0: # Only add diseases with a score greater than 0\n",
        "            disease_scores[disease] = score\n",
        "\n",
        "    ranked_diseases = sorted(disease_scores.items(), key=lambda x: x[1], reverse=True)\n",
        "\n",
        "    return ranked_diseases\n",
        "\n",
        "def predict_disease(user_symptoms, xgb_model, merged_df, severity_df, symptom_list, label_encoder, confidence_threshold=0.8):\n",
        "    \"\"\"Predicts disease using XGBoost and falls back to severity matching.\"\"\"\n",
        "\n",
        "    # One-hot encode user symptoms\n",
        "    user_symptoms_encoded = pd.Series([1 if symptom in user_symptoms else 0 for symptom in symptom_list]).values.reshape(1, -1)\n",
        "\n",
        "    # Predict using XGBoost\n",
        "    probabilities = xgb_model.predict_proba(user_symptoms_encoded)[0]\n",
        "    predicted_disease_encoded = probabilities.argmax()\n",
        "    predicted_disease = label_encoder.inverse_transform([predicted_disease_encoded])[0]\n",
        "    confidence = probabilities[predicted_disease_encoded]\n",
        "\n",
        "    if confidence >= confidence_threshold:\n",
        "        return [(predicted_disease, confidence)] # Return with confidence score.\n",
        "\n",
        "    else:\n",
        "        # Fallback to severity-weighted matching\n",
        "        results = find_disease_by_symptoms(user_symptoms, merged_df, severity_df)\n",
        "        return results\n",
        "\n",
        "# Example usage\n",
        "user_symptoms = ['itching', 'skin_rash', 'headache']\n",
        "\n",
        "predictions = predict_disease(user_symptoms, xgb_model, merged_df, severity_df, symptoms, label_encoder)\n",
        "\n",
        "print(\"Predictions:\")\n",
        "for disease, score in predictions:\n",
        "    print(f\"Disease: {disease}, Score: {score}\")\n",
        "\n",
        "# Get recommendations for the top predicted disease\n",
        "if predictions:\n",
        "    top_disease = predictions[0][0]\n",
        "    get_recommendations(top_disease)"
      ],
      "metadata": {
        "colab": {
          "base_uri": "https://localhost:8080/"
        },
        "id": "FNykOu967ik5",
        "outputId": "730a5431-4d87-4dad-8b86-7411cc07a8d0"
      },
      "execution_count": 50,
      "outputs": [
        {
          "output_type": "stream",
          "name": "stdout",
          "text": [
            "Predictions:\n",
            "Disease: Fungal infection, Score: 4\n",
            "Disease: Drug Reaction, Score: 4\n",
            "Disease: Chicken pox, Score: 4\n",
            "Disease: Hypertension, Score: 3\n",
            "Disease: Migraine, Score: 3\n",
            "Disease: Paralysis (brain hemorrhage), Score: 3\n",
            "Disease: Malaria, Score: 3\n",
            "Disease: Dengue, Score: 3\n",
            "Disease: Typhoid, Score: 3\n",
            "Disease: Hypoglycemia, Score: 3\n",
            "Disease: Acne, Score: 3\n",
            "Disease: Psoriasis, Score: 3\n",
            "Disease: Impetigo, Score: 3\n",
            "Disease: Chronic cholestasis, Score: 1\n",
            "Disease: Jaundice, Score: 1\n",
            "Disease: Hepatitis B, Score: 1\n",
            "Disease: Fungal infection\n",
            "Description: Fungal infection is a common skin condition caused by fungi.\n",
            "Symptoms:\n",
            "- dischromic_patches (Severity: 6)\n",
            "- nodal_skin_eruptions (Severity: 4)\n",
            "- skin_rash (Severity: 3)\n",
            "- itching (Severity: 1)\n",
            "Diet: ['Antifungal Diet', 'Probiotics', 'Garlic', 'Coconut oil', 'Turmeric']\n",
            "Medications: ['Antifungal Cream', 'Fluconazole', 'Terbinafine', 'Clotrimazole', 'Ketoconazole']\n",
            "Precautions: ['use clean cloths', 'use detol or neem in bathing water', 'keep infected area dry', 'bath twice']\n",
            "Workout: Avoid sugary foods\n"
          ]
        }
      ]
    }
  ]
}